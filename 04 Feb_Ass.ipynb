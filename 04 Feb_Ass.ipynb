{
 "cells": [
  {
   "cell_type": "code",
   "execution_count": 10,
   "id": "bd55f06c-aac2-4e66-9128-17f1f8738a17",
   "metadata": {},
   "outputs": [
    {
     "name": "stdout",
     "output_type": "stream",
     "text": [
      "Original list of tuples:\n",
      "[('Sachin Tendulkar', 34357), ('Ricky Ponting', 27483), ('Jack Kallis', 25534), ('Virat Kohli', 24936)]\n",
      "\n",
      "Sorting the List of Tuples:\n",
      "[('Virat Kohli', 24936), ('Jack Kallis', 25534), ('Ricky Ponting', 27483), ('Sachin Tendulkar', 34357)]\n"
     ]
    }
   ],
   "source": [
    "#Q1. Create a python program to sort the given list of tuples based on integer value using a  lambda function.\n",
    "subject_marks = [('Sachin Tendulkar', 34357), ('Ricky Ponting', 27483), ('Jack Kallis', 25534), ('Virat Kohli', 24936)]\n",
    "print(\"Original list of tuples:\")\n",
    "print(subject_marks)\n",
    "subject_marks.sort(key = lambda x: x[1])\n",
    "print(\"\\nSorting the List of Tuples:\")\n",
    "print(subject_marks)"
   ]
  },
  {
   "cell_type": "code",
   "execution_count": 1,
   "id": "735a6e2f-0363-4841-aef9-20e8aa12168e",
   "metadata": {},
   "outputs": [
    {
     "data": {
      "text/plain": [
       "[1, 4, 9, 16, 25, 36, 49, 64, 81, 100]"
      ]
     },
     "execution_count": 1,
     "metadata": {},
     "output_type": "execute_result"
    }
   ],
   "source": [
    "\"\"\"\n",
    "Q2. Write a Python Program to find the squares of all the numbers in the given list of integers using  lambda and map functions. \n",
    "[1, 2, 3, 4, 5, 6, 7, 8, 9, 10]\n",
    "\n",
    "\"\"\"\n",
    "\n",
    "l=[1, 2, 3, 4, 5, 6, 7, 8, 9, 10]\n",
    "list(map(lambda x:x**2,l))\n"
   ]
  },
  {
   "cell_type": "code",
   "execution_count": 2,
   "id": "6b897968-43d7-4ae4-ae69-8fcae76c81bf",
   "metadata": {},
   "outputs": [
    {
     "data": {
      "text/plain": [
       "('1', '2', '3', '4', '5', '6', '7', '8', '9', '10')"
      ]
     },
     "execution_count": 2,
     "metadata": {},
     "output_type": "execute_result"
    }
   ],
   "source": [
    "\"\"\"\n",
    "Q3. Write a python program to convert the given list of integers into a tuple of strings. Use map and  lambda functions \n",
    "Given String: [1, 2, 3, 4, 5, 6, 7, 8, 9, 10] \n",
    "Expected output: ('1', '2', '3', '4', '5', '6', '7', '8', '9', '10')\n",
    "\n",
    "\"\"\"\n",
    "l=[1, 2, 3, 4, 5, 6, 7, 8, 9, 10]\n",
    "tuple(map(lambda x:str(x),l))"
   ]
  },
  {
   "cell_type": "code",
   "execution_count": 13,
   "id": "64486242-9f45-4bf5-8578-7f558cb86b04",
   "metadata": {},
   "outputs": [
    {
     "data": {
      "text/plain": [
       "620448401733239439360000"
      ]
     },
     "execution_count": 13,
     "metadata": {},
     "output_type": "execute_result"
    }
   ],
   "source": [
    "#Q4.  Write a python program using reduce function to compute the product of a list containing numbers  from 1 to 25.\n",
    "from functools import reduce \n",
    "l=[]\n",
    "for i in range(1,25):\n",
    "    l.append(i)\n",
    "reduce(lambda x,y:x*y,l)"
   ]
  },
  {
   "cell_type": "code",
   "execution_count": 3,
   "id": "af0fed81-ebeb-4708-ab7c-785111d38d7e",
   "metadata": {},
   "outputs": [
    {
     "name": "stdout",
     "output_type": "stream",
     "text": [
      "['php', 'aba', 'radar', 'level']\n"
     ]
    }
   ],
   "source": [
    "#Q6. Write a python program to find palindromes in the given list of strings using lambda and filter  function. \n",
    "#['python', 'php', 'aba', 'radar', 'level']\n",
    "l=['python', 'php', 'aba', 'radar', 'level']\n",
    "l1=list(filter(lambda x:(x ==\"\".join(reversed(x))),l))\n",
    "print(l1)"
   ]
  },
  {
   "cell_type": "code",
   "execution_count": null,
   "id": "048d2cd3-7217-49d5-86d8-06a015dbad45",
   "metadata": {},
   "outputs": [],
   "source": []
  }
 ],
 "metadata": {
  "kernelspec": {
   "display_name": "Python 3 (ipykernel)",
   "language": "python",
   "name": "python3"
  },
  "language_info": {
   "codemirror_mode": {
    "name": "ipython",
    "version": 3
   },
   "file_extension": ".py",
   "mimetype": "text/x-python",
   "name": "python",
   "nbconvert_exporter": "python",
   "pygments_lexer": "ipython3",
   "version": "3.10.8"
  }
 },
 "nbformat": 4,
 "nbformat_minor": 5
}
