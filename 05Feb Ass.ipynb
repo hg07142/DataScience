{
 "cells": [
  {
   "cell_type": "code",
   "execution_count": null,
   "id": "694bdc13-8826-4eb7-adc0-68e5373b5a40",
   "metadata": {},
   "outputs": [],
   "source": [
    "#Q1. Explain Class and Object with respect to Object-Oriented Programming. Give a suitable example.\n",
    "\"\"\" \n",
    "CLass :- A Class in object oriented programming is a blueprint or prototype that defines the variables and the methods (functions) of a certain kind.\n",
    "Object :- A Object is a ral world entity.\n",
    "Suppose there is a list of 'Car Company Names' having items 'Honda, BMW , Hyundi' , so Car Company Name is 'class' and Honda is 'object'\n",
    "\"\"\"\n",
    "#Q2. Name the four pillars of OOPs. \n",
    "\"\"\"\n",
    "The four pillars of OOps are:\n",
    ">Inheritance\n",
    ">Polymorphism\n",
    ">Encapsulation\n",
    ">Abstraction\n",
    "\"\"\""
   ]
  },
  {
   "cell_type": "code",
   "execution_count": 3,
   "id": "d7113bcb-3529-4ac2-9b11-f7d054782704",
   "metadata": {},
   "outputs": [
    {
     "name": "stdout",
     "output_type": "stream",
     "text": [
      "hello Harsh\n"
     ]
    }
   ],
   "source": [
    "#Q3. Explain why the __init__() function is used. Give a suitable example. \n",
    "\"\"\"\n",
    "__init___() function is a construtor. Its used when we make the class\n",
    "\"\"\"\n",
    "class hello():\n",
    "    def __init__(self,name):\n",
    "        self.P_name = name\n",
    "Hi=hello(\"Harsh\")\n",
    "print(\"Hello\",Hi.P_name)\n"
   ]
  },
  {
   "cell_type": "code",
   "execution_count": null,
   "id": "06911b6e-97a4-4e15-bdca-f314a92d034c",
   "metadata": {},
   "outputs": [],
   "source": [
    "#Q4. Why self is used in OOPs? \n",
    "\"\"\"\n",
    "Self represents the instance of the class. By using the “self”  we can access the attributes and methods of the class in python. \n",
    "It binds the attributes with the given arguments\n",
    "\"\"\""
   ]
  },
  {
   "cell_type": "code",
   "execution_count": null,
   "id": "243c8e1c-0597-4d4d-b44d-03f39b4c838e",
   "metadata": {},
   "outputs": [],
   "source": [
    "#Q5. What is inheritance? Give an example for each type of inheritance\n",
    "\"\"\"\n",
    "Inheritance allows us to define a class that inherits all the methods and properties from another class\n",
    "\"\"\""
   ]
  }
 ],
 "metadata": {
  "kernelspec": {
   "display_name": "Python 3 (ipykernel)",
   "language": "python",
   "name": "python3"
  },
  "language_info": {
   "codemirror_mode": {
    "name": "ipython",
    "version": 3
   },
   "file_extension": ".py",
   "mimetype": "text/x-python",
   "name": "python",
   "nbconvert_exporter": "python",
   "pygments_lexer": "ipython3",
   "version": "3.10.8"
  }
 },
 "nbformat": 4,
 "nbformat_minor": 5
}
