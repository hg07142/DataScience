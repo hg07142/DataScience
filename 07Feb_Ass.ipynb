{
 "cells": [
  {
   "cell_type": "code",
   "execution_count": 5,
   "id": "6c9ca44a-9aeb-47f4-8d42-19ab61c9ef80",
   "metadata": {},
   "outputs": [
    {
     "name": "stdin",
     "output_type": "stream",
     "text": [
      "Please enter the Password: Pass_Word@12#\n"
     ]
    },
    {
     "name": "stdout",
     "output_type": "stream",
     "text": [
      "Valid Password\n"
     ]
    }
   ],
   "source": [
    "\"\"\"\n",
    "Q1. You are writing code for a company. The requirement of the company is that you create a python  function that will check whether the password entered by the user is correct or not. The function should  take the password as input and return the string “Valid Password” if the entered password follows the  below-given password guidelines else it should return “Invalid Password”. \n",
    "Note:\n",
    "1. The Password should contain at least two uppercase letters and at least two lowercase letters. \n",
    "2. The Password should contain at least a number and three special characters. \n",
    "3. The length of the password should be 10 characters long. \n",
    "\n",
    "\"\"\"\n",
    "l, u, p, d = 0, 0, 0, 0\n",
    "s = input(\"Please enter the Password:\")\n",
    "if (len(s) >= 10):\n",
    "    for i in s:\n",
    " \n",
    "        # counting lowercase alphabets\n",
    "        if (i.islower()):\n",
    "            l+=1           \n",
    " \n",
    "        # counting uppercase alphabets\n",
    "        if (i.isupper()):\n",
    "            u+=1           \n",
    " \n",
    "        # counting digits\n",
    "        if (i.isdigit()):\n",
    "            d+=1           \n",
    " \n",
    "        # counting the mentioned special characters\n",
    "        if(i=='@'or i=='$' or i=='_' or i=='#'):\n",
    "            p+=1          \n",
    "if (l>=2 and u>=2 and p>=3 and d>=1 and l+p+u+d==len(s)):\n",
    "    print(\"Valid Password\")\n",
    "else:\n",
    "    print(\"Invalid Password\")"
   ]
  },
  {
   "cell_type": "code",
   "execution_count": 9,
   "id": "8e13c5ee-3deb-4096-8d9c-a606b64c7247",
   "metadata": {},
   "outputs": [
    {
     "name": "stdin",
     "output_type": "stream",
     "text": [
      "Please Enter String: Hello world\n",
      "Please Enter the letter: H\n"
     ]
    },
    {
     "name": "stdout",
     "output_type": "stream",
     "text": [
      "True\n"
     ]
    }
   ],
   "source": [
    "#Check if the string starts with a particular letter \n",
    "\n",
    "String=input('Please Enter String:')\n",
    "ltr=input('Please Enter the letter:')\n",
    "pr=lambda x:True if x[0]==ltr else False\n",
    "print(pr(String))\n"
   ]
  },
  {
   "cell_type": "code",
   "execution_count": 13,
   "id": "6b83248f-bb95-4485-ae75-48c0a8d275bf",
   "metadata": {},
   "outputs": [
    {
     "name": "stdin",
     "output_type": "stream",
     "text": [
      "Please Enter the String: 123a\n"
     ]
    },
    {
     "name": "stdout",
     "output_type": "stream",
     "text": [
      "Not Valid\n"
     ]
    }
   ],
   "source": [
    "#Check if the string is numeric\n",
    "String = input(\"Please Enter the String:\")\n",
    "test= lambda x:\"Valid\" if x.isnumeric() else \"Not Valid\"\n",
    "print(test(String))"
   ]
  },
  {
   "cell_type": "code",
   "execution_count": 18,
   "id": "375d12a0-3fee-4726-bbb6-11783969a6cb",
   "metadata": {},
   "outputs": [
    {
     "name": "stdout",
     "output_type": "stream",
     "text": [
      "[('grapes', 1000), ('mango', 99), ('orange', 80)]\n"
     ]
    }
   ],
   "source": [
    "#Sort a list of tuples having fruit names and their quantity. [(\"mango\",99),(\"orange\",80), (\"grapes\", 1000)\n",
    "l=[(\"mango\",99),(\"orange\",80), (\"grapes\", 1000)]\n",
    "test= lambda x: sorted(x)\n",
    "print(test(l))\n"
   ]
  },
  {
   "cell_type": "code",
   "execution_count": 24,
   "id": "5f50e020-f3d3-453e-a154-932609931079",
   "metadata": {},
   "outputs": [
    {
     "name": "stdout",
     "output_type": "stream",
     "text": [
      "[1, 4, 9, 16, 25, 36, 49, 64, 81, 100]\n",
      "[1, 8, 27, 64, 125, 216, 343, 512, 729, 1000]\n"
     ]
    }
   ],
   "source": [
    "l=[1,2,3,4,5,6,7,8,9,10]\n",
    "\n",
    "#Find the squares of numbers from 1 to 10\n",
    "sqr=list(map(lambda x:x*x,l))\n",
    "\n",
    "#Find the cube of numbers from 1 to 10\n",
    "cube=list(map(lambda x:x**3,l))\n",
    "print(sqr,cube,sep='\\n')\n"
   ]
  },
  {
   "cell_type": "code",
   "execution_count": 25,
   "id": "44dbea64-b06a-40a8-8133-457560384011",
   "metadata": {},
   "outputs": [
    {
     "name": "stdin",
     "output_type": "stream",
     "text": [
      "Please Enter the Number 122\n"
     ]
    },
    {
     "name": "stdout",
     "output_type": "stream",
     "text": [
      "Even Number\n"
     ]
    }
   ],
   "source": [
    " #Check if a given number is even\n",
    "Num=int(input(\"Please Enter the Number\"))\n",
    "check=(lambda x:\"Even Number\" if x%2==0 else \"Not Even No.\")\n",
    "print(check(Num))"
   ]
  },
  {
   "cell_type": "code",
   "execution_count": 26,
   "id": "c7e35551-bee8-4c8f-88d3-a4705ce984ca",
   "metadata": {},
   "outputs": [
    {
     "data": {
      "text/plain": [
       "[1, 3, 5, 7, 9]"
      ]
     },
     "execution_count": 26,
     "metadata": {},
     "output_type": "execute_result"
    }
   ],
   "source": [
    "# Filter odd numbers from the given list. \n",
    "l= [1,2,3,4,5,6,7,8,9,10]\n",
    "list(filter(lambda x:x%2!=0 ,l))"
   ]
  },
  {
   "cell_type": "code",
   "execution_count": 28,
   "id": "f118d66f-bfcc-45b2-a92d-777354395f0b",
   "metadata": {},
   "outputs": [
    {
     "name": "stdout",
     "output_type": "stream",
     "text": [
      "Positive Nos. [1, 2, 3, 4, 5, 6]\n",
      "Negative Nos. [-1, -2, -3, -4, -5]\n"
     ]
    }
   ],
   "source": [
    "#Sort a list of integers into positive and negative integers lists. \n",
    "l= [1,2,3,4,5,6,-1,-2,-3,-4,-5,0] \n",
    "neg=list(filter(lambda x:x<0,l))\n",
    "Pos=list(filter(lambda x:x>0,l))\n",
    "print('Positive Nos.',Pos)\n",
    "print('Negative Nos.',neg)"
   ]
  },
  {
   "cell_type": "code",
   "execution_count": null,
   "id": "cdebac57-40ea-49bf-a05a-e9e6834e1910",
   "metadata": {},
   "outputs": [],
   "source": []
  }
 ],
 "metadata": {
  "kernelspec": {
   "display_name": "Python 3 (ipykernel)",
   "language": "python",
   "name": "python3"
  },
  "language_info": {
   "codemirror_mode": {
    "name": "ipython",
    "version": 3
   },
   "file_extension": ".py",
   "mimetype": "text/x-python",
   "name": "python",
   "nbconvert_exporter": "python",
   "pygments_lexer": "ipython3",
   "version": "3.10.8"
  }
 },
 "nbformat": 4,
 "nbformat_minor": 5
}
