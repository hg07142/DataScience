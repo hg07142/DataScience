{
 "cells": [
  {
   "cell_type": "code",
   "execution_count": 1,
   "id": "d816a982-66ae-4106-b34a-cd81807c5499",
   "metadata": {},
   "outputs": [
    {
     "data": {
      "text/plain": [
       "'Harsh'"
      ]
     },
     "execution_count": 1,
     "metadata": {},
     "output_type": "execute_result"
    }
   ],
   "source": [
    "#What is Abstraction in OOps? Explain with an example\n",
    "\n",
    "\"\"\"\n",
    "Abstraction in OOP is a process of hiding the real implementation of the method by only showing a method signature.\n",
    "\"\"\"\n",
    "import abc\n",
    "class name:\n",
    "    @abc. abstractmethod\n",
    "    def student_name(self):\n",
    "        pass\n",
    "class st_name(name):\n",
    "    def student_name(self):\n",
    "        return \"Harsh\"\n",
    "obj=st_name()\n",
    "obj.student_name()\n",
    "\n",
    "    "
   ]
  },
  {
   "cell_type": "code",
   "execution_count": null,
   "id": "cb93831b-b353-4fac-af3c-39420df8868e",
   "metadata": {},
   "outputs": [],
   "source": [
    "#Q2. Differentiate between Abstraction and Encapsulation. Explain with an example\n",
    "\"\"\"\n",
    "Abstraction is hiding the details and implementation of the code.\n",
    "Encapsulation is hiding the data and controlling the visibility of the code.\n",
    "\"\"\"\n",
    "\"\"\"\n",
    "Abstraction is used in mobile phones’ GUI. When you click on the icons, abstraction allows them to perform specific functions. \n",
    "After the icon is clicked, the encapsulation works in the backend to guide the user on the next steps.\n",
    "\"\"\""
   ]
  },
  {
   "cell_type": "code",
   "execution_count": null,
   "id": "903e6573-c700-423c-848a-342619b87ce8",
   "metadata": {},
   "outputs": [],
   "source": [
    "#Q3. What is abc module in python? Why is it used? \n",
    "\"\"\"\n",
    "The main goal of the abstract base class(abc) is to provide a standardized way to test whether an object adheres to a given specification\n",
    "\"\"\""
   ]
  },
  {
   "cell_type": "code",
   "execution_count": null,
   "id": "461ea037-4193-401c-87e8-0077126c3546",
   "metadata": {},
   "outputs": [],
   "source": [
    "#Q4. How can we achieve data abstraction?\n",
    "\"\"\"\n",
    "In Python, abstraction can be achieved by having/using abstract classes and methods in our programs.\n",
    "\"\"\""
   ]
  },
  {
   "cell_type": "code",
   "execution_count": null,
   "id": "ac274059-2da1-4099-ae4b-89c8660c7fff",
   "metadata": {},
   "outputs": [],
   "source": [
    "#Q5. Can we create an instance of an abstract class? Explain your answer\n",
    "\"\"\"\n",
    "An abstract class can be considered as a blueprint for other classes. \n",
    "It allows you to create a set of methods that must be created within any child classes built from the abstract class\n",
    "\"\"\""
   ]
  }
 ],
 "metadata": {
  "kernelspec": {
   "display_name": "Python 3 (ipykernel)",
   "language": "python",
   "name": "python3"
  },
  "language_info": {
   "codemirror_mode": {
    "name": "ipython",
    "version": 3
   },
   "file_extension": ".py",
   "mimetype": "text/x-python",
   "name": "python",
   "nbconvert_exporter": "python",
   "pygments_lexer": "ipython3",
   "version": "3.10.8"
  }
 },
 "nbformat": 4,
 "nbformat_minor": 5
}
