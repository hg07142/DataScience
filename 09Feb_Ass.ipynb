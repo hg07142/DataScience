{
 "cells": [
  {
   "cell_type": "code",
   "execution_count": 5,
   "id": "6229daee-782e-4e14-afb7-a1986206f282",
   "metadata": {},
   "outputs": [],
   "source": [
    "#Q1, Create a vehicle class with an init method having instance variables as name_of_vehicle, max_speed  and average_of_vehicle.\n",
    "class vehicle :\n",
    "    def __init__(self,name,speed,average_vehicle):\n",
    "        self.name_of_vehicle=name\n",
    "        self.speed=speed\n",
    "        self.average_of_vehicle=average_vehicle "
   ]
  },
  {
   "cell_type": "code",
   "execution_count": 6,
   "id": "cb04ba79-a7c4-4bb5-9079-5b76cb9ef25f",
   "metadata": {},
   "outputs": [],
   "source": [
    "c=vehicle(\"abc\",24,250)"
   ]
  },
  {
   "cell_type": "code",
   "execution_count": 7,
   "id": "9778c5e6-c06c-4ca5-8dc2-d2263a286322",
   "metadata": {},
   "outputs": [
    {
     "data": {
      "text/plain": [
       "24"
      ]
     },
     "execution_count": 7,
     "metadata": {},
     "output_type": "execute_result"
    }
   ],
   "source": [
    "c.speed"
   ]
  },
  {
   "cell_type": "code",
   "execution_count": 8,
   "id": "6fa1a120-50c2-4e8d-86d5-cca6364e2e4e",
   "metadata": {},
   "outputs": [],
   "source": [
    "\"\"\"Q2.  Create a child class car from the vehicle class created in Que 1, which will inherit the vehicle class.  \n",
    "Create a method named seating_capacity which takes capacity as an argument and returns the name of  the vehicle and its seating capacity \"\"\"\n",
    "class cap(vehicle):\n",
    "    def seating_capacity(self,capacity):\n",
    "        print(self.name_of_vehicle,\" \",capacity)"
   ]
  },
  {
   "cell_type": "code",
   "execution_count": 13,
   "id": "b6814adb-4c15-44c6-bdf8-1d8f2b4dc4e4",
   "metadata": {},
   "outputs": [
    {
     "name": "stdout",
     "output_type": "stream",
     "text": [
      "Verna   23\n"
     ]
    }
   ],
   "source": [
    "childtest_obj= cap(\"Verna\",200,234)\n",
    "childtest_obj.seating_capacity(23)"
   ]
  },
  {
   "cell_type": "code",
   "execution_count": 27,
   "id": "dbc69211-721a-4d46-bce3-10787c4205e4",
   "metadata": {},
   "outputs": [],
   "source": [
    "#Q3. What is multiple inheritance? Write a python code to demonstrate multiple inheritance.\n",
    "\"\"\"It can be described as a process where the child class or object inherits the methods and attributes from one or more parent classes\"\"\"\n",
    "\n",
    "#Python code to demonstrate multiple inheritance\n",
    "\n",
    "class Parent1:\n",
    "    def Print1(self):\n",
    "        print(\"Hello\")\n",
    "class Parent2:\n",
    "    def Print2(self):\n",
    "        print(\"Harsh\")\n",
    "class Child (Parent1,Parent2):\n",
    "    def Print(self):\n",
    "        pass"
   ]
  },
  {
   "cell_type": "code",
   "execution_count": 28,
   "id": "8d750d96-d2ad-4252-b6cc-c421c5f93b83",
   "metadata": {},
   "outputs": [
    {
     "name": "stdout",
     "output_type": "stream",
     "text": [
      "Hello\n",
      "Harsh\n"
     ]
    }
   ],
   "source": [
    "obj=Child()\n",
    "obj.Print1()\n",
    "obj.Print2()"
   ]
  },
  {
   "cell_type": "code",
   "execution_count": 60,
   "id": "95b8bd20-e8a9-4547-9eed-7f525acf1f7b",
   "metadata": {},
   "outputs": [],
   "source": [
    "#Q4. What are getter and setter in python? Create a class and create a getter and a setter method in this  class. \n",
    "\"\"\"\n",
    "Getter: A method that allows you to access an attribute in a given class\n",
    "Setter: A method that allows you to set or mutate the value of an attribute in a class\n",
    "\"\"\"\n",
    "class vote:\n",
    "    def __init__(self,name,age):\n",
    "        self.name=name\n",
    "        self.__age=age\n",
    "    \n",
    "    #Getter method\n",
    "    @property\n",
    "    def age(self):\n",
    "        print(\"Getter method is called\")\n",
    "        return self.__age\n",
    "    \n",
    "    #Setter method\n",
    "    @age.setter\n",
    "    def age(self,a):\n",
    "        if a<18:\n",
    "            print(\"Not Valid\")\n",
    "        print(\"Setter method is called\")\n",
    "        self.__age=a"
   ]
  },
  {
   "cell_type": "code",
   "execution_count": 61,
   "id": "cdae82ab-d7aa-483b-b16e-c17fda264677",
   "metadata": {},
   "outputs": [
    {
     "name": "stdout",
     "output_type": "stream",
     "text": [
      "Not Valid\n",
      "Setter method is called\n",
      "Getter method is called\n",
      "12\n"
     ]
    }
   ],
   "source": [
    "obj=vote(\"Harsh\",17)\n",
    "obj.age=12\n",
    "print(obj.age)"
   ]
  },
  {
   "cell_type": "code",
   "execution_count": 63,
   "id": "2a3a1cd5-723b-45f9-aaa8-4035f47f79a7",
   "metadata": {},
   "outputs": [
    {
     "name": "stdout",
     "output_type": "stream",
     "text": [
      "Inside Parent\n",
      "Inside Child\n"
     ]
    }
   ],
   "source": [
    "#Q5.What is method overriding in python? Write a python code to demonstrate method overriding\n",
    "\n",
    "\"\"\" the subclass or child class can provide the program with specific characteristics or a \n",
    "specific implementation process of data provided that are already defined in the parent class or superclass. \"\"\"\n",
    "\n",
    "# Python program to demonstrate \n",
    "# method overriding\n",
    "class Parent():\n",
    "      \n",
    "    def __init__(self):\n",
    "        self.value = \"Inside Parent\"\n",
    "        \n",
    "    def show(self):\n",
    "        print(self.value)\n",
    "          \n",
    "class Child(Parent):\n",
    "      \n",
    "    def __init__(self):\n",
    "        self.value = \"Inside Child\"\n",
    "          \n",
    "    def show(self):\n",
    "        print(self.value)\n",
    "          \n",
    "obj1 = Parent()\n",
    "obj2 = Child()\n",
    "  \n",
    "obj1.show()\n",
    "obj2.show()"
   ]
  }
 ],
 "metadata": {
  "kernelspec": {
   "display_name": "Python 3 (ipykernel)",
   "language": "python",
   "name": "python3"
  },
  "language_info": {
   "codemirror_mode": {
    "name": "ipython",
    "version": 3
   },
   "file_extension": ".py",
   "mimetype": "text/x-python",
   "name": "python",
   "nbconvert_exporter": "python",
   "pygments_lexer": "ipython3",
   "version": "3.10.8"
  }
 },
 "nbformat": 4,
 "nbformat_minor": 5
}
