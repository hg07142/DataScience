{
 "cells": [
  {
   "cell_type": "code",
   "execution_count": 3,
   "id": "e37ae373-bd6f-492f-9497-eed3a048afda",
   "metadata": {},
   "outputs": [
    {
     "data": {
      "text/plain": [
       "\" \\nopen() function is used to open the file.\\nDifferent mode of opening the file are -\\n'r' :- Used to open file in read mode.\\n'w' :- used to open file in write mode.\\n'a' :- Used to open file in append mode.\\n\\n\""
      ]
     },
     "execution_count": 3,
     "metadata": {},
     "output_type": "execute_result"
    }
   ],
   "source": [
    "#Q1. Which function is used to open a file? What are the different modes of opening a file? Explain each mode  of file opening. .\n",
    "\"\"\" \n",
    "open() function is used to open the file.\n",
    "Different mode of opening the file are -\n",
    "'r' :- Used to open file in read mode.\n",
    "'w' :- used to open file in write mode.\n",
    "'a' :- Used to open file in append mode.\n",
    "\n",
    "\"\"\""
   ]
  },
  {
   "cell_type": "code",
   "execution_count": 4,
   "id": "4c1fbdb1-e7cb-4e72-9ad9-c9608bdb35ad",
   "metadata": {},
   "outputs": [
    {
     "data": {
      "text/plain": [
       "'\\nclose() function is used to close the file.\\nYou should always close your files, in some cases, due to buffering, changes made to a file may not show until you close the file.\\n'"
      ]
     },
     "execution_count": 4,
     "metadata": {},
     "output_type": "execute_result"
    }
   ],
   "source": [
    "#Q2. Why close() function is used? Why is it important to close a file? \n",
    "\"\"\"\n",
    "close() function is used to close the file.\n",
    "You should always close your files, in some cases, due to buffering, changes made to a file may not show until you close the file.\n",
    "\"\"\""
   ]
  },
  {
   "cell_type": "code",
   "execution_count": 8,
   "id": "e1dffaeb-431c-4663-89a7-ac3071521dd8",
   "metadata": {},
   "outputs": [],
   "source": [
    "\"\"\"Q3. Write a python program to create a text file.\n",
    "Write ‘I want to become a Data Scientist’ in that file. Then  close the file. Open this file and read the content of the file.\n",
    "\"\"\"\n",
    "\n",
    "#Opening the new file named Data Science\n",
    "\n",
    "f=open(\"DataScience.txt\",\"w\")\n",
    "\n",
    "#Writing in the file\n",
    "f.write(\"I want to become a Data Scientist\")\n",
    "f.close()"
   ]
  },
  {
   "cell_type": "code",
   "execution_count": 10,
   "id": "4ab242a4-d6af-4c32-9942-372558a2631f",
   "metadata": {},
   "outputs": [
    {
     "name": "stdout",
     "output_type": "stream",
     "text": [
      "I want to become a Data Scientist\n"
     ]
    }
   ],
   "source": [
    "#Opening the file\n",
    "\n",
    "f=open(\"DataScience.txt\",\"r\")\n",
    "#Reading content of file\n",
    "print(f.read())\n",
    "f.close()"
   ]
  },
  {
   "cell_type": "code",
   "execution_count": 11,
   "id": "7f087c98-458b-4b65-89d4-353de0878a83",
   "metadata": {},
   "outputs": [],
   "source": [
    "#Q4. Explain the following with python code: read(), readline() and readlines().\n",
    "f=open(\"DataScience.txt\",\"a\")\n",
    "f.write(\"I am working hard for that\\n\")\n",
    "f.write(\"I will try my best to acheive my aim\\n\")\n",
    "f.close()\n"
   ]
  },
  {
   "cell_type": "code",
   "execution_count": 16,
   "id": "6c4ad0c9-5e6a-42e6-974c-c06f22bf42bc",
   "metadata": {},
   "outputs": [
    {
     "name": "stdout",
     "output_type": "stream",
     "text": [
      "I want to become a Data ScientistI am working hard for that\n",
      "I will try my best to acheive my aim\n",
      "\n",
      "I want to become a Data ScientistI am working hard for that\n",
      "\n",
      "['I want to become a Data ScientistI am working hard for that\\n', 'I will try my best to acheive my aim\\n']\n"
     ]
    }
   ],
   "source": [
    "# code for read() method\n",
    "f=open(\"DataScience.txt\",\"r\")\n",
    "print(f.read())\n",
    "f.close()\n",
    "\n",
    "#Code for readline() method\n",
    "\n",
    "f=open(\"DataScience.txt\",\"r\")\n",
    "print(f.readline())\n",
    "f.close()\n",
    "\n",
    "#Code for readlines() method\n",
    "\n",
    "f=open(\"DataScience.txt\",\"r\")\n",
    "print(f.readlines())\n",
    "f.close()"
   ]
  },
  {
   "cell_type": "code",
   "execution_count": null,
   "id": "3b623afc-345b-4b84-9bdb-f3bfe5a19c1e",
   "metadata": {},
   "outputs": [],
   "source": [
    "#Q5. Explain why with statement is used with open(). What is the advantage of using with statement and  open() together?\n",
    "\"\"\"\n",
    "In Python, with statement is used in exception handling to make the code cleaner and much more readable.\n",
    "There is no need to call file.close() when using with statement. \n",
    "The with statement itself ensures proper acquisition and release of resources.\n",
    "\"\"\""
   ]
  },
  {
   "cell_type": "code",
   "execution_count": 25,
   "id": "85beff6d-8cf3-44ee-bc20-9bcbe452d480",
   "metadata": {},
   "outputs": [],
   "source": [
    "#Q6. Explain the write() and writelines() functions. Give a suitable example.\n",
    "\"\"\"\n",
    "write() function is used to write a single line in the file at once\n",
    "\n",
    "writelines() function is used to write multiple line at once\n",
    "\n",
    "\"\"\"\n",
    "\n",
    "with open(\"DataScience.txt\",\"w+\") as f:\n",
    "    f.write(\"Hello,I am student of PW Skills.\\n\")\n",
    "    l=[\"Courses:\\n\",\"DataScience\\n\",\"Full Stack Development\\n\"]\n",
    "    f.writelines(l)"
   ]
  },
  {
   "cell_type": "code",
   "execution_count": 26,
   "id": "51d75aa7-d368-4ff4-947a-c2761f758469",
   "metadata": {},
   "outputs": [
    {
     "name": "stdout",
     "output_type": "stream",
     "text": [
      "Hello,I am student of PW Skills.\n",
      "Courses:\n",
      "DataScience\n",
      "Full Stack Development\n",
      "\n"
     ]
    }
   ],
   "source": [
    "with open(\"DataScience.txt\",\"r\") as f:\n",
    "    print(f.read())"
   ]
  },
  {
   "cell_type": "code",
   "execution_count": null,
   "id": "a66b5e4b-d100-4dcc-9f8b-3830944dcf28",
   "metadata": {},
   "outputs": [],
   "source": []
  }
 ],
 "metadata": {
  "kernelspec": {
   "display_name": "Python 3 (ipykernel)",
   "language": "python",
   "name": "python3"
  },
  "language_info": {
   "codemirror_mode": {
    "name": "ipython",
    "version": 3
   },
   "file_extension": ".py",
   "mimetype": "text/x-python",
   "name": "python",
   "nbconvert_exporter": "python",
   "pygments_lexer": "ipython3",
   "version": "3.10.8"
  }
 },
 "nbformat": 4,
 "nbformat_minor": 5
}
