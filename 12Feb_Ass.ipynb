{
 "cells": [
  {
   "cell_type": "code",
   "execution_count": null,
   "id": "01d1062a-77ff-447e-bd02-60d488f34484",
   "metadata": {},
   "outputs": [],
   "source": [
    "# Q1 :-What is an Exception in python? Write an difference betwwen Exception and Syntax Error\n",
    "\"\"\"\n",
    "Exceptions are the unwanted errors that interrupts the easy flow of the program.\n",
    "\n",
    "An error is an issue in a program that prevents the program from completing its task.\n",
    "In comparison, an exception is a condition that interrupts the normal flow of the program.\n",
    "Both errors and exceptions are a type of runtime error, which means they occur during the execution of a program. \n",
    "\n",
    "\"\"\""
   ]
  },
  {
   "cell_type": "code",
   "execution_count": 1,
   "id": "d4ad4627-f0e6-4ec3-ab50-6b8f416cdde0",
   "metadata": {},
   "outputs": [
    {
     "data": {
      "text/plain": [
       "\"\\nIf we don't handle the Exception then an interrupt will occur which will stop the complete execution of program\\n\\n\""
      ]
     },
     "execution_count": 1,
     "metadata": {},
     "output_type": "execute_result"
    }
   ],
   "source": [
    "#Q2 :-What happen when an Exception is not handled ? Explain with an example\n",
    "\"\"\"\n",
    "If we don't handle the Exception then an interrupt will occur which will stop the complete execution of program\n",
    "\n",
    "\"\"\""
   ]
  },
  {
   "cell_type": "code",
   "execution_count": 2,
   "id": "7dba4b83-4401-4595-b59b-06bba5db070d",
   "metadata": {},
   "outputs": [
    {
     "ename": "ZeroDivisionError",
     "evalue": "division by zero",
     "output_type": "error",
     "traceback": [
      "\u001b[0;31m---------------------------------------------------------------------------\u001b[0m",
      "\u001b[0;31mZeroDivisionError\u001b[0m                         Traceback (most recent call last)",
      "Cell \u001b[0;32mIn[2], line 1\u001b[0m\n\u001b[0;32m----> 1\u001b[0m A\u001b[38;5;241m=\u001b[39m\u001b[38;5;241;43m10\u001b[39;49m\u001b[38;5;241;43m/\u001b[39;49m\u001b[38;5;241;43m0\u001b[39;49m\n\u001b[1;32m      2\u001b[0m \u001b[38;5;28mprint\u001b[39m(A)\n",
      "\u001b[0;31mZeroDivisionError\u001b[0m: division by zero"
     ]
    }
   ],
   "source": [
    "A=10/0\n",
    "print(A)\n",
    "\n",
    "#An Exception is generated as 10 is not divisible by 0"
   ]
  },
  {
   "cell_type": "code",
   "execution_count": 3,
   "id": "e8e7c9b7-9b41-4c22-a9c4-4d03e088318f",
   "metadata": {},
   "outputs": [
    {
     "name": "stdout",
     "output_type": "stream",
     "text": [
      "this is my except block not writable\n"
     ]
    }
   ],
   "source": [
    "#Q3. Which Python statements are used to catch and handle exceptions? Explain within example.\n",
    "'''The try and except block in Python is used to catch\n",
    "and handle exceptions. Python executes code following the \n",
    "try statement as a “normal” part of the program. The code that follows the except \n",
    "statement is the program's response to any exceptions in the preceding try clause.\n",
    "example:-'''\n",
    "\n",
    "try :\n",
    "    f = open('tst.txt' , 'r')\n",
    "    f.write('this is my assignment')\n",
    "except Exception as e :\n",
    "    print('this is my except block' , e)"
   ]
  },
  {
   "cell_type": "code",
   "execution_count": 2,
   "id": "d5d9df67-b224-4112-9ec4-e332cb5f47ec",
   "metadata": {},
   "outputs": [
    {
     "data": {
      "text/plain": [
       "'this is my assignment'"
      ]
     },
     "execution_count": 2,
     "metadata": {},
     "output_type": "execute_result"
    }
   ],
   "source": [
    "f = open('tst.txt' , 'r')\n",
    "f.read()"
   ]
  },
  {
   "cell_type": "code",
   "execution_count": 16,
   "id": "1a43863c-2b04-429a-aeff-23be17232edb",
   "metadata": {},
   "outputs": [
    {
     "data": {
      "text/plain": [
       "'\\na. try and else\\nb. finally\\nc. raise\\n\\n'"
      ]
     },
     "execution_count": 16,
     "metadata": {},
     "output_type": "execute_result"
    }
   ],
   "source": [
    "#Q4. Explain with an example:\n",
    "'''\n",
    "a. try and else\n",
    "b. finally\n",
    "c. raise\n",
    "\n",
    "'''"
   ]
  },
  {
   "cell_type": "code",
   "execution_count": 17,
   "id": "bd0b13c8-180b-4f14-9957-8874ffcd9373",
   "metadata": {},
   "outputs": [],
   "source": [
    "\n",
    "# Python code to illustrate\n",
    "# working of try() \n",
    "def divide(x, y):\n",
    "    try:\n",
    "        # Floor Division : Gives only Fractional\n",
    "        # Part as Answer\n",
    "        result = x // y\n",
    "    except ZeroDivisionError:\n",
    "        print(\"Sorry ! You are dividing by zero \")\n",
    "    else:\n",
    "        print(\"Yeah ! Your answer is :\", result)\n",
    "    finally: \n",
    "        # this block is always executed  \n",
    "        # regardless of exception generation. \n",
    "        print('This is always executed')"
   ]
  },
  {
   "cell_type": "code",
   "execution_count": 18,
   "id": "99f00f19-c5ed-4aee-ac12-62f2db036fa6",
   "metadata": {},
   "outputs": [
    {
     "name": "stdout",
     "output_type": "stream",
     "text": [
      "Sorry ! You are dividing by zero \n",
      "This is always executed\n"
     ]
    }
   ],
   "source": [
    "divide(120,0)"
   ]
  },
  {
   "cell_type": "code",
   "execution_count": 19,
   "id": "d9624fdc-4785-43bd-92d0-d1bc27c6d616",
   "metadata": {},
   "outputs": [],
   "source": [
    "#Q5. What are Custom Exceptions in python? Why do we need custom exceptions?\n",
    "#explain with an example?\n",
    "\n",
    "'''ans5:\n",
    "Custom exceptions are easy to create, especially when you do not go into all \n",
    "the fuss of adding the .__init__() and .__str__() methods. This is one of these \n",
    "rather rare situations in which less code means more functionality. More often\n",
    "than not, an empty class inheriting from the Exception class is the way to go.\n",
    "\n",
    "example:'''\n",
    "class EmptyVariableError(Exception):\n",
    "    pass\n",
    "\n",
    "def get_mean(x):\n",
    "    return sum(x) / len(x)\n",
    "\n",
    "def summarize(x):\n",
    "    try:\n",
    "        mean = get_mean(x)\n",
    "    except ZeroDivisionError as e:\n",
    "        raise EmptyVariableError from e\n",
    "    total = sum(x)\n",
    "    n = len(x)"
   ]
  },
  {
   "cell_type": "code",
   "execution_count": 20,
   "id": "ac993b51-3407-466e-b249-54cc6fc37e06",
   "metadata": {},
   "outputs": [
    {
     "ename": "TypeError",
     "evalue": "'int' object is not iterable",
     "output_type": "error",
     "traceback": [
      "\u001b[0;31m---------------------------------------------------------------------------\u001b[0m",
      "\u001b[0;31mTypeError\u001b[0m                                 Traceback (most recent call last)",
      "Cell \u001b[0;32mIn[20], line 1\u001b[0m\n\u001b[0;32m----> 1\u001b[0m \u001b[43msummarize\u001b[49m\u001b[43m(\u001b[49m\u001b[38;5;241;43m24\u001b[39;49m\u001b[43m)\u001b[49m\n",
      "Cell \u001b[0;32mIn[19], line 19\u001b[0m, in \u001b[0;36msummarize\u001b[0;34m(x)\u001b[0m\n\u001b[1;32m     17\u001b[0m \u001b[38;5;28;01mdef\u001b[39;00m \u001b[38;5;21msummarize\u001b[39m(x):\n\u001b[1;32m     18\u001b[0m     \u001b[38;5;28;01mtry\u001b[39;00m:\n\u001b[0;32m---> 19\u001b[0m         mean \u001b[38;5;241m=\u001b[39m \u001b[43mget_mean\u001b[49m\u001b[43m(\u001b[49m\u001b[43mx\u001b[49m\u001b[43m)\u001b[49m\n\u001b[1;32m     20\u001b[0m     \u001b[38;5;28;01mexcept\u001b[39;00m \u001b[38;5;167;01mZeroDivisionError\u001b[39;00m \u001b[38;5;28;01mas\u001b[39;00m e:\n\u001b[1;32m     21\u001b[0m         \u001b[38;5;28;01mraise\u001b[39;00m EmptyVariableError \u001b[38;5;28;01mfrom\u001b[39;00m \u001b[38;5;21;01me\u001b[39;00m\n",
      "Cell \u001b[0;32mIn[19], line 15\u001b[0m, in \u001b[0;36mget_mean\u001b[0;34m(x)\u001b[0m\n\u001b[1;32m     14\u001b[0m \u001b[38;5;28;01mdef\u001b[39;00m \u001b[38;5;21mget_mean\u001b[39m(x):\n\u001b[0;32m---> 15\u001b[0m     \u001b[38;5;28;01mreturn\u001b[39;00m \u001b[38;5;28;43msum\u001b[39;49m\u001b[43m(\u001b[49m\u001b[43mx\u001b[49m\u001b[43m)\u001b[49m \u001b[38;5;241m/\u001b[39m \u001b[38;5;28mlen\u001b[39m(x)\n",
      "\u001b[0;31mTypeError\u001b[0m: 'int' object is not iterable"
     ]
    }
   ],
   "source": [
    "summarize(24)"
   ]
  },
  {
   "cell_type": "code",
   "execution_count": null,
   "id": "61af7988-2ca9-459d-bfb1-843c828481de",
   "metadata": {},
   "outputs": [],
   "source": []
  }
 ],
 "metadata": {
  "kernelspec": {
   "display_name": "Python 3 (ipykernel)",
   "language": "python",
   "name": "python3"
  },
  "language_info": {
   "codemirror_mode": {
    "name": "ipython",
    "version": 3
   },
   "file_extension": ".py",
   "mimetype": "text/x-python",
   "name": "python",
   "nbconvert_exporter": "python",
   "pygments_lexer": "ipython3",
   "version": "3.10.8"
  }
 },
 "nbformat": 4,
 "nbformat_minor": 5
}
