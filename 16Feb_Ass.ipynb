{
 "cells": [
  {
   "cell_type": "code",
   "execution_count": 1,
   "id": "4efd6777-86d8-40e5-a86e-a9269981978e",
   "metadata": {},
   "outputs": [
    {
     "data": {
      "text/plain": [
       "'\\nDatabase is a collection of interrelated data about a particular organisation.\\n\\nSQL stand for Structured Query Language. It is a language designed to extract, store, insert, delete, update and manage data\\nfor structured data and strategic analysis. \\nExample : MySQL,Oracle etc\\n\\nNoSQL database provides a mechanism for storage and retrieval of data that is modelled other than tabular form.\\nExample : MongoDB,Redis etc\\n\\n'"
      ]
     },
     "execution_count": 1,
     "metadata": {},
     "output_type": "execute_result"
    }
   ],
   "source": [
    "#Q1. What is a database? Differentiate between SQL and NoSQL databases.\n",
    "\n",
    "\"\"\"\n",
    "Database is a collection of interrelated data about a particular organisation.\n",
    "\n",
    "SQL stand for Structured Query Language. It is a language designed to extract, store, insert, delete, update and manage data\n",
    "for structured data and strategic analysis. \n",
    "Example : MySQL,Oracle etc\n",
    "\n",
    "NoSQL database provides a mechanism for storage and retrieval of data that is modelled other than tabular form.\n",
    "Example : MongoDB,Redis etc\n",
    "\n",
    "\"\"\""
   ]
  },
  {
   "cell_type": "code",
   "execution_count": 2,
   "id": "49a92665-dd7d-4bdf-822b-cc4a8471dd4a",
   "metadata": {},
   "outputs": [
    {
     "data": {
      "text/plain": [
       "'\\nData Definition Language(DDL) is a subset of SQL and a part of DBMS(Database Management System).\\nDDL consist of Commands to commands like CREATE, ALTER, TRUNCATE and DROP.These commands are used to create or modify the tables in SQL.\\n\\nCREATE :- This command is used to create a new table in SQL. The user has to give information like table name, column names, and their datatypes.\\n          For Example:\\n                      CREATE TABLE Student_info(College_Id number(2),College_name varchar(30),Branch varchar(10));\\n                        \\nDROP :- is used to remove an existing table along with its structure from the Database.\\n        For Example : \\n                     DROP TABLE Student_info ;\\nALTER :- is used to modify the column of existing table.\\n         For Example :\\n                     ALTER TABLE Student_info ADD CGPA number;\\n                     \\nTRUNCATE :- is used to remove all rows from the table, but the structure of the table still exists.\\n            For Example :\\n                        TRUNCATE TABLE Student_info;\\n\\n'"
      ]
     },
     "execution_count": 2,
     "metadata": {},
     "output_type": "execute_result"
    }
   ],
   "source": [
    "#Q2. What is DDL? Explain why CREATE, DROP, ALTER, and TRUNCATE are used with an example\n",
    "\n",
    "\"\"\"\n",
    "Data Definition Language(DDL) is a subset of SQL and a part of DBMS(Database Management System).\n",
    "DDL consist of Commands to commands like CREATE, ALTER, TRUNCATE and DROP.These commands are used to create or modify the tables in SQL.\n",
    "\n",
    "CREATE :- This command is used to create a new table in SQL. The user has to give information like table name, column names, and their datatypes.\n",
    "          For Example:\n",
    "                      CREATE TABLE Student_info(College_Id number(2),College_name varchar(30),Branch varchar(10));\n",
    "                        \n",
    "DROP :- is used to remove an existing table along with its structure from the Database.\n",
    "        For Example : \n",
    "                     DROP TABLE Student_info ;\n",
    "ALTER :- is used to modify the column of existing table.\n",
    "         For Example :\n",
    "                     ALTER TABLE Student_info ADD CGPA number;\n",
    "                     \n",
    "TRUNCATE :- is used to remove all rows from the table, but the structure of the table still exists.\n",
    "            For Example :\n",
    "                        TRUNCATE TABLE Student_info;\n",
    "\n",
    "\"\"\""
   ]
  },
  {
   "cell_type": "code",
   "execution_count": 2,
   "id": "0bc4f95f-3bfd-4ceb-9b7b-775faf9455c0",
   "metadata": {},
   "outputs": [
    {
     "data": {
      "text/plain": [
       "'\\nDML stands for Data Manipulation Language . It deals with the manipulation of data present in the database.\\n\\nINSERT :- is used to insert new row in the table.\\n          For Example:\\n                      Insert into Employee(Emp_id, Emp_name) values (001, “ bhanu”);\\nUPDATE :-  is used to update existing data within a table.\\n          For Example :\\n                      UPDATE Employee SET Emp_name= Ram WHERE Emp_id= 001;\\nDELETE :- is used to delete records from a database table.\\n          For Example :\\n                      DELETE from Employee WHERE Emp_id=002;\\n            \\n'"
      ]
     },
     "execution_count": 2,
     "metadata": {},
     "output_type": "execute_result"
    }
   ],
   "source": [
    "#Q3. What is DML? Explain INSERT, UPDATE, and DELETE with an example.\n",
    "\n",
    "\"\"\"\n",
    "DML stands for Data Manipulation Language . It deals with the manipulation of data present in the database.\n",
    "\n",
    "INSERT :- is used to insert new row in the table.\n",
    "          For Example:\n",
    "                      Insert into Employee(Emp_id, Emp_name) values (001, “ bhanu”);\n",
    "UPDATE :-  is used to update existing data within a table.\n",
    "          For Example :\n",
    "                      UPDATE Employee SET Emp_name= Ram WHERE Emp_id= 001;\n",
    "DELETE :- is used to delete records from a database table.\n",
    "          For Example :\n",
    "                      DELETE from Employee WHERE Emp_id=002;\n",
    "            \n",
    "\"\"\""
   ]
  },
  {
   "cell_type": "code",
   "execution_count": 1,
   "id": "f5a1fbca-dfe5-4597-8862-51637e80d981",
   "metadata": {},
   "outputs": [
    {
     "data": {
      "text/plain": [
       "'\\nThe SQL SELECT statement is used to fetch the data from a database table which returns this data in the form of a result table.\\n\\nFor Example :-\\n                SELECT * FROM Employee;\\n\\n'"
      ]
     },
     "execution_count": 1,
     "metadata": {},
     "output_type": "execute_result"
    }
   ],
   "source": [
    "#Q4. What is DQL? Explain SELECT with an example.\n",
    "\n",
    "\"\"\"\n",
    "The SQL SELECT statement is used to fetch the data from a database table which returns this data in the form of a result table.\n",
    "\n",
    "For Example :-\n",
    "                SELECT * FROM Employee;\n",
    "\n",
    "\"\"\""
   ]
  },
  {
   "cell_type": "code",
   "execution_count": 2,
   "id": "50d8fa90-2faa-4854-9293-03d077954b6f",
   "metadata": {},
   "outputs": [
    {
     "data": {
      "text/plain": [
       "'\\nPrimary Key : It is used to uniquely identify each row in database table . \\nForeign key : It is used to join two tables in a database. Primary key for one table act as a foregin key for other table.\\n\\n'"
      ]
     },
     "execution_count": 2,
     "metadata": {},
     "output_type": "execute_result"
    }
   ],
   "source": [
    "#Q5. Explain Primary Key and Foreign Key\n",
    "\n",
    "\"\"\"\n",
    "Primary Key : It is used to uniquely identify each row in database table . \n",
    "Foreign key : It is used to join two tables in a database. Primary key for one table act as a foregin key for other table.\n",
    "\n",
    "\"\"\""
   ]
  },
  {
   "cell_type": "code",
   "execution_count": 3,
   "id": "d72375ad-fc7d-4d7d-8cee-288e5659beeb",
   "metadata": {},
   "outputs": [
    {
     "data": {
      "text/plain": [
       "'\\nimport mysql.connector as sql\\nmydb=sql.connect\\n(  \\nhost=\"localhost\",\\nuser=\"abc\",\\npassword=\"password\"\\n)\\n\\ncursor() :-  is used to execute statements to communicate with the MySQL database.\\n\\nexcute() :- This method accepts a MySQL query as a parameter and executes the given query.\\n\\n'"
      ]
     },
     "execution_count": 3,
     "metadata": {},
     "output_type": "execute_result"
    }
   ],
   "source": [
    "#6. Write a python code to connect MySQL to python. Explain the cursor() and execute() method. \n",
    "\n",
    "\"\"\"\n",
    "import mysql.connector as sql\n",
    "mydb=sql.connect\n",
    "(  \n",
    "host=\"localhost\",\n",
    "user=\"abc\",\n",
    "password=\"password\"\n",
    ")\n",
    "\n",
    "cursor() :-  is used to execute statements to communicate with the MySQL database.\n",
    "\n",
    "excute() :- This method accepts a MySQL query as a parameter and executes the given query.\n",
    "\n",
    "\"\"\""
   ]
  },
  {
   "cell_type": "code",
   "execution_count": null,
   "id": "46ba4ce6-7412-4a76-ab4d-233ed1a0c9f6",
   "metadata": {},
   "outputs": [],
   "source": [
    "# Q7. Give the order of execution of SQL clauses in an SQL query. \n",
    "\"\"\"\n",
    "\n",
    "Order in which SQL clauses being executed are:-\n",
    " 1. FROM/JOIN\n",
    " 2. WHERE\n",
    " 3. GROUP BY\n",
    " 4. HAVING\n",
    " 5. SELECT\n",
    " 6. ORDER BY\n",
    " 7. LIMIT/OFFSET"
   ]
  }
 ],
 "metadata": {
  "kernelspec": {
   "display_name": "Python 3 (ipykernel)",
   "language": "python",
   "name": "python3"
  },
  "language_info": {
   "codemirror_mode": {
    "name": "ipython",
    "version": 3
   },
   "file_extension": ".py",
   "mimetype": "text/x-python",
   "name": "python",
   "nbconvert_exporter": "python",
   "pygments_lexer": "ipython3",
   "version": "3.10.8"
  }
 },
 "nbformat": 4,
 "nbformat_minor": 5
}
