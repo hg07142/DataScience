{
 "cells": [
  {
   "cell_type": "code",
   "execution_count": 1,
   "id": "0eb0c8e7-7d23-4bf4-b1c7-76ed7367bb2b",
   "metadata": {},
   "outputs": [
    {
     "data": {
      "text/plain": [
       "'\\nAPI is the acronym for application programming interface — a software intermediary that allows two applications to talk to each other. \\nAPIs are an accessible way to extract and share data within and across organizations.\\n\\nAPIs are all around us. Every time you use a rideshare app, send a mobile payment, or change the thermostat temperature from your phone,\\nyou’re using an API.\\n\\n'"
      ]
     },
     "execution_count": 1,
     "metadata": {},
     "output_type": "execute_result"
    }
   ],
   "source": [
    "#Q1. What is an API? Give an example, where an API is used in real life\n",
    "\n",
    "\"\"\"\n",
    "API is the acronym for application programming interface — a software intermediary that allows two applications to talk to each other. \n",
    "APIs are an accessible way to extract and share data within and across organizations.\n",
    "\n",
    "APIs are all around us. Every time you use a rideshare app, send a mobile payment, or change the thermostat temperature from your phone,\n",
    "you’re using an API.\n",
    "\n",
    "\"\"\""
   ]
  },
  {
   "cell_type": "code",
   "execution_count": 5,
   "id": "16308c20-ead7-4aa0-aee1-ff83ba1e1dac",
   "metadata": {},
   "outputs": [
    {
     "data": {
      "text/plain": [
       "'\\nADVANTAGES :-\\n\\nApplications: Access to APIs ensures more flexibility in information-transfer processes.\\n\\nReach: APIs let you create layers in apps in order to distribute information to different audiences.\\n\\nCustomization: Furthermore, it can serve as a solution to create different experiences for users, letting protocols,\\nfunctions, and commands be adapted according to specific demands.\\n\\nEfficiency: When you have content that is automatically published and made available on different channels simultaneously, \\nAPIs allow for more efficient data distribution.\\n\\nAdaptability: One of the greatest benefits of APIs is the ability it has to adapt to changes through \\ndata migration and flexibility of services.\\n\\n\\nDISADVANTAGES :-\\n\\nComplexity: APIs can be complex, requiring a significant amount of development effort to implement and maintain.\\n\\nCompatibility Issues: APIs can have compatibility issues between different versions of the same software system or \\nbetween different systems, which can lead to errors and system failures.\\n\\nDependency on Third-Party Developers: APIs rely on third-party developers to create applications that integrate with the software system. \\nThis can create dependencies that are outside of the control of the company that owns the software system.\\n\\n'"
      ]
     },
     "execution_count": 5,
     "metadata": {},
     "output_type": "execute_result"
    }
   ],
   "source": [
    "#Q2. Give advantages and disadvantages of using API.\n",
    "\n",
    "\"\"\"\n",
    "ADVANTAGES :-\n",
    "\n",
    "Applications: Access to APIs ensures more flexibility in information-transfer processes.\n",
    "\n",
    "Reach: APIs let you create layers in apps in order to distribute information to different audiences.\n",
    "\n",
    "Customization: Furthermore, it can serve as a solution to create different experiences for users, letting protocols,\n",
    "functions, and commands be adapted according to specific demands.\n",
    "\n",
    "Efficiency: When you have content that is automatically published and made available on different channels simultaneously, \n",
    "APIs allow for more efficient data distribution.\n",
    "\n",
    "Adaptability: One of the greatest benefits of APIs is the ability it has to adapt to changes through \n",
    "data migration and flexibility of services.\n",
    "\n",
    "\n",
    "DISADVANTAGES :-\n",
    "\n",
    "Complexity: APIs can be complex, requiring a significant amount of development effort to implement and maintain.\n",
    "\n",
    "Compatibility Issues: APIs can have compatibility issues between different versions of the same software system or \n",
    "between different systems, which can lead to errors and system failures.\n",
    "\n",
    "Dependency on Third-Party Developers: APIs rely on third-party developers to create applications that integrate with the software system. \n",
    "This can create dependencies that are outside of the control of the company that owns the software system.\n",
    "\n",
    "\"\"\"\n"
   ]
  },
  {
   "cell_type": "code",
   "execution_count": null,
   "id": "86dba9d0-fed5-4d12-9d0d-2fa7c63c696b",
   "metadata": {},
   "outputs": [],
   "source": [
    "#Q4. Explain REST and SOAP Architecture. Mention shortcomings of SOAP\n",
    "\n",
    "\"\"\"\n",
    "REST Architecture :-\n",
    "In this architecture, a REST server provides connectivity to resources, which helps with client access as well as updating resources.\n",
    "In this, the resources are recognized by the URIs / Global IDs. REST API creates a variety of outputs to represent a resource, such as JSON -\n",
    "which is very popular among them all, text, XML formats. REST architecture-oriented web services are termed as RESTful web services.\n",
    "\n",
    "SOAP Architecture :-\n",
    " XML-based protocol having the main benefit of implementing the SOAP Web Service as its security.The abbreviation of SOAP is the Simple Object Access Protocol.\n",
    " SOAP offers a wrapper for sending web service-based messages over the Internet with the help of HTTP protocol. All its messages are usually in XML format"
   ]
  },
  {
   "cell_type": "code",
   "execution_count": 1,
   "id": "5a25ff4f-d668-47d8-9002-ce134dd297af",
   "metadata": {},
   "outputs": [
    {
     "data": {
      "text/plain": [
       "'\\nSOAP stands for Simple Object Access Protocol whereas REST stands for Representational State Transfer.\\n\\nSOAP is a protocol whereas REST is an architectural pattern.\\n\\nSOAP uses service interfaces to expose its functionality to client applications while REST uses Uniform Service locators to access to\\nthe components on the hardware device.\\n\\nSOAP needs more bandwidth for its usage whereas REST doesn’t need much bandwidth.\\n\\nComparing SOAP vs REST API, SOAP only works with XML formats whereas REST work with plain text, XML, HTML and JSON.\\n\\nSOAP cannot make use of REST whereas REST can make use of SOAP.\\n\\n'"
      ]
     },
     "execution_count": 1,
     "metadata": {},
     "output_type": "execute_result"
    }
   ],
   "source": [
    "#Q5. Differentiate between REST and SOAP.\n",
    "\n",
    "\"\"\"\n",
    "SOAP stands for Simple Object Access Protocol whereas REST stands for Representational State Transfer.\n",
    "\n",
    "SOAP is a protocol whereas REST is an architectural pattern.\n",
    "\n",
    "SOAP uses service interfaces to expose its functionality to client applications while REST uses Uniform Service locators to access to\n",
    "the components on the hardware device.\n",
    "\n",
    "SOAP needs more bandwidth for its usage whereas REST doesn’t need much bandwidth.\n",
    "\n",
    "Comparing SOAP vs REST API, SOAP only works with XML formats whereas REST work with plain text, XML, HTML and JSON.\n",
    "\n",
    "SOAP cannot make use of REST whereas REST can make use of SOAP.\n",
    "\n",
    "\"\"\""
   ]
  },
  {
   "cell_type": "code",
   "execution_count": null,
   "id": "d07ee90b-eb31-4318-a013-bc93cb62af87",
   "metadata": {},
   "outputs": [],
   "source": []
  }
 ],
 "metadata": {
  "kernelspec": {
   "display_name": "Python 3 (ipykernel)",
   "language": "python",
   "name": "python3"
  },
  "language_info": {
   "codemirror_mode": {
    "name": "ipython",
    "version": 3
   },
   "file_extension": ".py",
   "mimetype": "text/x-python",
   "name": "python",
   "nbconvert_exporter": "python",
   "pygments_lexer": "ipython3",
   "version": "3.10.8"
  }
 },
 "nbformat": 4,
 "nbformat_minor": 5
}
