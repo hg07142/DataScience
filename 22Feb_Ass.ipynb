{
 "cells": [
  {
   "cell_type": "code",
   "execution_count": 1,
   "id": "17a2257c-7fa0-4540-b7e1-f7d5a96692d5",
   "metadata": {},
   "outputs": [
    {
     "name": "stdout",
     "output_type": "stream",
     "text": [
      "Collecting panda\n",
      "  Downloading panda-0.3.1.tar.gz (5.8 kB)\n",
      "  Preparing metadata (setup.py) ... \u001b[?25ldone\n",
      "\u001b[?25hRequirement already satisfied: setuptools in /opt/conda/lib/python3.10/site-packages (from panda) (65.5.1)\n",
      "Requirement already satisfied: requests in /opt/conda/lib/python3.10/site-packages (from panda) (2.28.1)\n",
      "Requirement already satisfied: urllib3<1.27,>=1.21.1 in /opt/conda/lib/python3.10/site-packages (from requests->panda) (1.26.13)\n",
      "Requirement already satisfied: certifi>=2017.4.17 in /opt/conda/lib/python3.10/site-packages (from requests->panda) (2022.12.7)\n",
      "Requirement already satisfied: idna<4,>=2.5 in /opt/conda/lib/python3.10/site-packages (from requests->panda) (3.4)\n",
      "Requirement already satisfied: charset-normalizer<3,>=2 in /opt/conda/lib/python3.10/site-packages (from requests->panda) (2.1.1)\n",
      "Building wheels for collected packages: panda\n",
      "  Building wheel for panda (setup.py) ... \u001b[?25ldone\n",
      "\u001b[?25h  Created wheel for panda: filename=panda-0.3.1-py3-none-any.whl size=7239 sha256=9bd828b3bbb6e042c532ff84d64e4c37e176e10d1445b6977d9f594cb0b4c989\n",
      "  Stored in directory: /home/jovyan/.cache/pip/wheels/d1/81/6d/0bcd1ae53614a2da2cda0de1dced1fb83050422c7cf5213c32\n",
      "Successfully built panda\n",
      "Installing collected packages: panda\n",
      "Successfully installed panda-0.3.1\n",
      "Note: you may need to restart the kernel to use updated packages.\n"
     ]
    }
   ],
   "source": [
    "pip install panda"
   ]
  },
  {
   "cell_type": "code",
   "execution_count": 2,
   "id": "e2efb7f0-9180-4ea6-abcd-6b19303e2b8e",
   "metadata": {},
   "outputs": [],
   "source": [
    "import pandas as pd"
   ]
  },
  {
   "cell_type": "code",
   "execution_count": 3,
   "id": "202d3a90-824b-4a4a-bd45-5aabf08091a1",
   "metadata": {},
   "outputs": [
    {
     "name": "stdout",
     "output_type": "stream",
     "text": [
      "0     4\n",
      "1     8\n",
      "2    15\n",
      "3    16\n",
      "4    23\n",
      "5    42\n",
      "dtype: int64\n"
     ]
    }
   ],
   "source": [
    "#Ques: Create a Pandas Series that contains the following data: 4, 8, 15, 16, 23, and 42. Then, print the series.\n",
    "data = [4,8,15,16,23,42]\n",
    "series = pd.Series(data)\n",
    "print(series)"
   ]
  },
  {
   "cell_type": "code",
   "execution_count": 4,
   "id": "010c54e1-645d-440d-bbaa-81fa2e3ed42f",
   "metadata": {},
   "outputs": [
    {
     "name": "stdout",
     "output_type": "stream",
     "text": [
      "0     1\n",
      "1     2\n",
      "2     3\n",
      "3     4\n",
      "4     5\n",
      "5     6\n",
      "6     7\n",
      "7     8\n",
      "8     9\n",
      "9    10\n",
      "dtype: int64\n"
     ]
    }
   ],
   "source": [
    "#Ques: Create a variable of list type containing 10 elements in it, and apply pandas.Series function on the  variable print it. \n",
    "data = [1,2,3,4,5,6,7,8,9,10]\n",
    "series = pd.Series(data)\n",
    "print(series)"
   ]
  },
  {
   "cell_type": "code",
   "execution_count": 5,
   "id": "c38524f5-4cae-402a-86fd-159ef9a430c6",
   "metadata": {},
   "outputs": [
    {
     "name": "stdout",
     "output_type": "stream",
     "text": [
      "     Name  Age  Gender\n",
      "0   Alice   25  Female\n",
      "1     Bob   30    Male\n",
      "2  Claire   27  Female\n"
     ]
    }
   ],
   "source": [
    "#Q3. Create a Pandas DataFrame that contains the following data:\n",
    "data={'Name':['Alice','Bob','Claire'],\n",
    "      'Age': [25,30,27],\n",
    "      'Gender':['Female','Male','Female']\n",
    "}\n",
    "Set=pd.DataFrame(data)\n",
    "print(Set)"
   ]
  },
  {
   "cell_type": "code",
   "execution_count": 8,
   "id": "4b1ba785-0fbf-4604-8790-6e59177d1ea8",
   "metadata": {},
   "outputs": [
    {
     "name": "stdout",
     "output_type": "stream",
     "text": [
      "     Name  Age  Gender\n",
      "0   Alice   25  Female\n",
      "1     Bob   30    Male\n",
      "2  Claire   27  Female\n",
      "0     4\n",
      "1     8\n",
      "2    15\n",
      "3    16\n",
      "4    23\n",
      "5    42\n",
      "dtype: int64\n"
     ]
    }
   ],
   "source": [
    "#Q4. What is ‘DataFrame’in pandas and how is it different from pandas.series? Explain with an example.\n",
    "\"\"\"\n",
    "A Pandas DataFrame is a two-dimensional labeled data structure in Pandas, similar to a table or a spreadsheet.\n",
    "It consists of rows and columns, where each column can contain different data types.\n",
    "\n",
    "On the other hand, a Pandas data = [4,8,15,16,23,42]\n",
    "series = pd.Series(data)\n",
    "print(series)Series is a one-dimensional labeled array that can hold any data type.\n",
    "\"\"\"\n",
    "#Example of dataframe\n",
    "data={'Name':['Alice','Bob','Claire'],\n",
    "      'Age': [25,30,27],\n",
    "      'Gender':['Female','Male','Female']\n",
    "}\n",
    "Set=pd.DataFrame(data)\n",
    "print(Set)\n",
    "\n",
    "#Example of data.series\n",
    "data = [4,8,15,16,23,42]\n",
    "series = pd.Series(data)\n",
    "print(series)"
   ]
  },
  {
   "cell_type": "code",
   "execution_count": 7,
   "id": "44ec18e6-2c3b-407e-834d-b21305bec3b2",
   "metadata": {},
   "outputs": [
    {
     "data": {
      "text/html": [
       "<div>\n",
       "<style scoped>\n",
       "    .dataframe tbody tr th:only-of-type {\n",
       "        vertical-align: middle;\n",
       "    }\n",
       "\n",
       "    .dataframe tbody tr th {\n",
       "        vertical-align: top;\n",
       "    }\n",
       "\n",
       "    .dataframe thead th {\n",
       "        text-align: right;\n",
       "    }\n",
       "</style>\n",
       "<table border=\"1\" class=\"dataframe\">\n",
       "  <thead>\n",
       "    <tr style=\"text-align: right;\">\n",
       "      <th></th>\n",
       "      <th>Name</th>\n",
       "      <th>Age</th>\n",
       "      <th>Gender</th>\n",
       "    </tr>\n",
       "  </thead>\n",
       "  <tbody>\n",
       "    <tr>\n",
       "      <th>1</th>\n",
       "      <td>Bob</td>\n",
       "      <td>30</td>\n",
       "      <td>Male</td>\n",
       "    </tr>\n",
       "    <tr>\n",
       "      <th>2</th>\n",
       "      <td>Claire</td>\n",
       "      <td>27</td>\n",
       "      <td>Female</td>\n",
       "    </tr>\n",
       "    <tr>\n",
       "      <th>3</th>\n",
       "      <td>Moris</td>\n",
       "      <td>22</td>\n",
       "      <td>Male</td>\n",
       "    </tr>\n",
       "    <tr>\n",
       "      <th>4</th>\n",
       "      <td>Jack</td>\n",
       "      <td>34</td>\n",
       "      <td>Male</td>\n",
       "    </tr>\n",
       "    <tr>\n",
       "      <th>5</th>\n",
       "      <td>Lucifer</td>\n",
       "      <td>29</td>\n",
       "      <td>Male</td>\n",
       "    </tr>\n",
       "  </tbody>\n",
       "</table>\n",
       "</div>"
      ],
      "text/plain": [
       "      Name  Age  Gender\n",
       "1      Bob   30    Male\n",
       "2   Claire   27  Female\n",
       "3    Moris   22    Male\n",
       "4     Jack   34    Male\n",
       "5  Lucifer   29    Male"
      ]
     },
     "execution_count": 7,
     "metadata": {},
     "output_type": "execute_result"
    }
   ],
   "source": [
    "\"\"\"\n",
    "Q5. What are some common functions you can use to manipulate data in a Pandas DataFrame?\n",
    "Can  you give an example of when you might use one of these functions?\n",
    "\"\"\"\n",
    "\n",
    "\"\"\"\n",
    "Some functions of DataFrame are :\n",
    "'head()'or'tail()': head() is used to view the first few rows and tail() is used to view the last rows of dataframe.\n",
    "\n",
    "info(): This function provides a summary of the DataFrame, including the column names, data types, and memory usage.\n",
    "\n",
    "shape: This attribute returns a tuple representing the dimensions of the DataFrame (number of rows, number of columns).\n",
    "\n",
    "groupby(): This function is used for grouping and aggregating data based on one or more columns\n",
    "\n",
    "drop(): This function is used to remove rows or columns from the DataFrame.\n",
    "\"\"\"\n",
    "data={'Name':['Alice','Bob','Claire','Moris','Jack','Lucifer'],\n",
    "      'Age': [25,30,27,22,34,29],\n",
    "      'Gender':['Female','Male','Female','Male','Male','Male']\n",
    "}\n",
    "Set=pd.DataFrame(data)\n",
    "Set.drop(0) #delete the record of Alice\n"
   ]
  },
  {
   "cell_type": "code",
   "execution_count": 9,
   "id": "2d248428-7020-4a61-b283-34b850f06074",
   "metadata": {},
   "outputs": [
    {
     "data": {
      "text/plain": [
       "'\\nSeries and DataFrame in Pandas are mutable in nature, meaning they can be modified after creation.\\nOn the other hand, Panel objects are not mutable.\\n'"
      ]
     },
     "execution_count": 9,
     "metadata": {},
     "output_type": "execute_result"
    }
   ],
   "source": [
    "#Q6. Which of the following is mutable in nature Series, DataFrame, Panel?\n",
    "\n",
    "\"\"\"\n",
    "Series and DataFrame in Pandas are mutable in nature, meaning they can be modified after creation.\n",
    "On the other hand, Panel objects are not mutable.\n",
    "\"\"\""
   ]
  },
  {
   "cell_type": "code",
   "execution_count": 11,
   "id": "7f0a19fc-3191-4fcd-ab4e-ba90a7076c5b",
   "metadata": {},
   "outputs": [
    {
     "name": "stdout",
     "output_type": "stream",
     "text": [
      "     Name  Age     City\n",
      "0   Rahul   25  Lucknow\n",
      "1  Rishab   28  Chennai\n",
      "2   Rohit   32   Jaipur\n"
     ]
    }
   ],
   "source": [
    "#Q7. Create a DataFrame using multiple Series. Explain with an example\n",
    "name = pd.Series(['Rahul', 'Rishab', 'Rohit'])\n",
    "age = pd.Series([25, 28, 32])\n",
    "city = pd.Series(['Lucknow', 'Chennai', 'Jaipur'])\n",
    "df = pd.DataFrame({'Name': name, 'Age': age, 'City': city})\n",
    "print(df)"
   ]
  },
  {
   "cell_type": "code",
   "execution_count": null,
   "id": "630e17be-01b4-485c-aab3-a4a7b3c7641c",
   "metadata": {},
   "outputs": [],
   "source": []
  }
 ],
 "metadata": {
  "kernelspec": {
   "display_name": "Python 3 (ipykernel)",
   "language": "python",
   "name": "python3"
  },
  "language_info": {
   "codemirror_mode": {
    "name": "ipython",
    "version": 3
   },
   "file_extension": ".py",
   "mimetype": "text/x-python",
   "name": "python",
   "nbconvert_exporter": "python",
   "pygments_lexer": "ipython3",
   "version": "3.10.8"
  }
 },
 "nbformat": 4,
 "nbformat_minor": 5
}
