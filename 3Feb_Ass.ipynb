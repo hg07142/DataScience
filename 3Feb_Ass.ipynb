{
 "cells": [
  {
   "cell_type": "code",
   "execution_count": 2,
   "id": "16e0468b-b23e-4c1d-b5cf-21c9e74af1e0",
   "metadata": {},
   "outputs": [
    {
     "name": "stdout",
     "output_type": "stream",
     "text": [
      "[1, 3, 5, 7, 9, 11, 13, 15, 17, 19, 21, 23, 25]\n"
     ]
    }
   ],
   "source": [
    "#Q1. Which keyword is used to create a function? Create a function to return a list of odd numbers in the  range of 1 to 25. \n",
    "\"\"\" 'def' keyword is used to create a function in python\n",
    "function to return a list of odd number in the range of 1 to 25 \"\"\"\n",
    "def odd_number(): # creating a function\n",
    "    l=[]          #function definition\n",
    "    for i in range (1,26,2):\n",
    "        l.append(i)\n",
    "    return l\n",
    "c=odd_number()\n",
    "print(c) # function call"
   ]
  },
  {
   "cell_type": "code",
   "execution_count": 3,
   "id": "292766d8-5800-4d4c-9fdb-2a74e2437a67",
   "metadata": {},
   "outputs": [
    {
     "name": "stdout",
     "output_type": "stream",
     "text": [
      "<class 'tuple'>\n",
      "(1, 2, 3, 4, 5)\n",
      "120\n",
      "<class 'dict'>\n"
     ]
    },
    {
     "data": {
      "text/plain": [
       "{'Name': 'ABC', 'Age': 14, 'SRNo': 226016}"
      ]
     },
     "execution_count": 3,
     "metadata": {},
     "output_type": "execute_result"
    }
   ],
   "source": [
    "#Q2. Why *args and **kwargs is used in some functions? Create a function each for *args and **kwargs  to demonstrate their use.\n",
    "\"\"\" *args and **kwargs is used in some functions to make the program flexible by allowing function to take variable length argument \"\"\"\n",
    "def Product(*product):\n",
    "    print(type(product))\n",
    "    print(product)\n",
    "    s=1\n",
    "    for a in product:\n",
    "        s=s*a\n",
    "    return s\n",
    "\n",
    "# using **kwargs\n",
    "def student_detail(**detail):\n",
    "    print(type(detail))\n",
    "    return detail\n",
    "a=Product(1,2,3,4,5) # multiple arguments were given in function\n",
    "print(a)\n",
    "student_detail(Name=\"ABC\",Age=14,SRNo= 226016 )"
   ]
  },
  {
   "cell_type": "code",
   "execution_count": 2,
   "id": "d599fe65-8bab-41fc-bd05-29bf8e9293c0",
   "metadata": {},
   "outputs": [
    {
     "name": "stdout",
     "output_type": "stream",
     "text": [
      "2\n",
      "4\n",
      "6\n",
      "8\n",
      "10\n"
     ]
    }
   ],
   "source": [
    "#Q3.  What is an iterator in python? Name the method used to initialise the iterator object and the method  used for iteration.\n",
    "#Use these methods to print the first five elements of the given list [2, 4, 6, 8, 10, 12, 14,  16, 18, 20].\n",
    "\"\"\" An iterator is an object that can be iterated upon, meaning that you can traverse through all the values.\n",
    "iter() and next() methods are used to implement iterator\"\"\"\n",
    "\n",
    "l=[2,4,6,8,10,12,14,16,18,20]\n",
    "\n",
    "Iter=iter(l)\n",
    "for i in range(0,5):\n",
    "    print(next(Iter))"
   ]
  },
  {
   "cell_type": "code",
   "execution_count": 14,
   "id": "ad323bc7-e18e-4ef6-9355-9a7f122bf459",
   "metadata": {},
   "outputs": [
    {
     "name": "stdout",
     "output_type": "stream",
     "text": [
      "<generator object sqr at 0x7fc784ef4ac0>\n",
      "1\n"
     ]
    }
   ],
   "source": [
    "#Q4.  What is a generator function in python? Why yield keyword is used? Give an example of a generator  function. \n",
    "\"\"\" Generator function return an iterator,that produces a sequence of values iterated over we can define it similar to a normal function \n",
    ",but in place of return we use yeild.\n",
    "yeild function does not stores the entire valuse as sam as return do\n",
    "\"\"\"\n",
    "def sqr():\n",
    "    l=[1,2,3,4]\n",
    "    for x in l:\n",
    "        yield(x*x)\n",
    "print(sqr()) # retun output genertator object\n",
    "\n",
    "#for accessing the elements , we have to use next() method\n",
    "\n",
    "print(next(sqr()))\n"
   ]
  },
  {
   "cell_type": "code",
   "execution_count": 28,
   "id": "d683db7a-9294-4638-ab4c-c8c948e78234",
   "metadata": {},
   "outputs": [
    {
     "name": "stdout",
     "output_type": "stream",
     "text": [
      "1\n",
      "2\n",
      "3\n",
      "5\n",
      "7\n",
      "11\n",
      "13\n",
      "17\n",
      "19\n",
      "23\n",
      "29\n",
      "31\n",
      "37\n",
      "41\n",
      "43\n",
      "47\n",
      "53\n",
      "59\n",
      "61\n"
     ]
    }
   ],
   "source": [
    "#Create a generator function for prime numbers less than 1000. Use the next() method to print the  first 20 prime numbers.\n",
    "def prime_no():\n",
    "    for x in range (1,1000):\n",
    "        flag=0\n",
    "        for y in range(2,x):\n",
    "            if (x%y == 0):\n",
    "                flag=1\n",
    "                break\n",
    "        if (flag==0):\n",
    "            yield(x)\n",
    "type(prime_no())\n",
    "a=prime_no()\n",
    "for x in range(1,20):\n",
    "    print(next(a))"
   ]
  },
  {
   "cell_type": "code",
   "execution_count": 31,
   "id": "e7de6f9d-5cb0-4eca-8f98-82f79a1dd8ec",
   "metadata": {},
   "outputs": [
    {
     "name": "stdout",
     "output_type": "stream",
     "text": [
      "0 1 1 2 3 5 8 13 21 34 "
     ]
    }
   ],
   "source": [
    "#Q6. Write a python program to print the first 10 Fibonacci numbers using a while loop.\n",
    "a=0\n",
    "b=1\n",
    "i=1\n",
    "while (i<11):\n",
    "    print(a,end=\" \")\n",
    "    n=a+b\n",
    "    a=b\n",
    "    b=n\n",
    "    i=i+1"
   ]
  },
  {
   "cell_type": "code",
   "execution_count": 32,
   "id": "0d6f88c9-0881-4cc3-a1b6-4940c3e156ca",
   "metadata": {},
   "outputs": [
    {
     "name": "stdout",
     "output_type": "stream",
     "text": [
      "['p', 'w', 's', 'k', 'i', 'l', 'l', 's']\n"
     ]
    }
   ],
   "source": [
    "#Q7. Write a List Comprehension to iterate through the given string: ‘pwskills’.\n",
    "#Expected output: ['p', 'w', 's', 'k', 'i', 'l', 'l', 's']\n",
    "print([a for a in 'pwskills'])\n",
    "\n"
   ]
  },
  {
   "cell_type": "code",
   "execution_count": 47,
   "id": "8e10fd52-2283-48cf-8b97-ccd5c604e6c8",
   "metadata": {},
   "outputs": [
    {
     "name": "stdout",
     "output_type": "stream",
     "text": [
      "No. is palimdrone 121\n"
     ]
    }
   ],
   "source": [
    "#Q8. Write a python program to check whether a given number is Palindrome or not using a while loop\n",
    "num=121\n",
    "c=0\n",
    "temp=num\n",
    "while num>0:\n",
    "    a=num%10\n",
    "    c=c*10+a\n",
    "    num=num//10\n",
    "if c==temp:\n",
    "    print(\"No. is palimdrone\",c)\n",
    "else:\n",
    "    print(\"Not a palimdrone no.\")"
   ]
  },
  {
   "cell_type": "code",
   "execution_count": 48,
   "id": "8d7099f2-6fac-49db-9184-b6c451c6ee44",
   "metadata": {},
   "outputs": [
    {
     "name": "stdout",
     "output_type": "stream",
     "text": [
      "[1, 3, 5, 7, 9, 11, 13, 15, 17, 19, 21, 23, 25, 27, 29, 31, 33, 35, 37, 39, 41, 43, 45, 47, 49, 51, 53, 55, 57, 59, 61, 63, 65, 67, 69, 71, 73, 75, 77, 79, 81, 83, 85, 87, 89, 91, 93, 95, 97, 99]\n"
     ]
    }
   ],
   "source": [
    "#Q9. Write a code to print odd numbers from 1 to 100 using list comprehension\n",
    "print([l for l in range(1,100,2)])"
   ]
  },
  {
   "cell_type": "code",
   "execution_count": null,
   "id": "ccae0e9c-179b-4c0b-b62d-5857df5910b3",
   "metadata": {},
   "outputs": [],
   "source": []
  }
 ],
 "metadata": {
  "kernelspec": {
   "display_name": "Python 3 (ipykernel)",
   "language": "python",
   "name": "python3"
  },
  "language_info": {
   "codemirror_mode": {
    "name": "ipython",
    "version": 3
   },
   "file_extension": ".py",
   "mimetype": "text/x-python",
   "name": "python",
   "nbconvert_exporter": "python",
   "pygments_lexer": "ipython3",
   "version": "3.10.8"
  }
 },
 "nbformat": 4,
 "nbformat_minor": 5
}
