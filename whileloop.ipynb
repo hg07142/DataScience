{
 "cells": [
  {
   "cell_type": "code",
   "execution_count": 6,
   "id": "4ab54405-e0dd-42e1-a9f2-718757f81794",
   "metadata": {},
   "outputs": [
    {
     "name": "stdout",
     "output_type": "stream",
     "text": [
      "From for loop:\n",
      "1\n",
      "2\n",
      "3\n",
      "4\n",
      "5\n",
      "6\n",
      "7\n",
      "8\n",
      "9\n",
      "10\n",
      "From while loop:\n",
      "1\n",
      "2\n",
      "3\n",
      "4\n",
      "5\n",
      "6\n",
      "7\n",
      "8\n",
      "9\n",
      "10\n"
     ]
    }
   ],
   "source": [
    "# Ques-1 When to use for loop and while loop?...\n",
    "\"\"\" for loop is used when we know the no. of iterations\n",
    "while loop is used when the no. of iterations are unknown \"\"\"\n",
    "#for example\n",
    "#print no. from 1 to 10\n",
    "print(\"From for loop:\")\n",
    "for i in range (1,11):#we have to give the start and stop value\n",
    "    print(i)\n",
    "# from the while loop\n",
    "print(\"From while loop:\")\n",
    "i=1\n",
    "while i < 11:#we don't have to give the start value\n",
    "    print(i)\n",
    "    i=i+1"
   ]
  },
  {
   "cell_type": "code",
   "execution_count": 7,
   "id": "bef05a82-d352-422d-b14c-1246393c080f",
   "metadata": {},
   "outputs": [
    {
     "name": "stdout",
     "output_type": "stream",
     "text": [
      "Sum wiil be: 55\n",
      "product will be: 56\n"
     ]
    }
   ],
   "source": [
    "#Program to print sum and product of first 10 natural no. using for loop and while loop...\n",
    "#from for loop\n",
    "Sum=0 # it will store the sum of natural no.\n",
    "Product=1 #it will store the product of natural no.\n",
    "for i in range (1,11):\n",
    "    Sum+=i\n",
    "    Product+=i\n",
    "print(\"Sum wiil be:\",Sum)\n",
    "print(\"product will be:\",Product)"
   ]
  },
  {
   "cell_type": "code",
   "execution_count": 8,
   "id": "47f57cb6-6dff-4c24-9d87-ea56be29493a",
   "metadata": {},
   "outputs": [
    {
     "name": "stdout",
     "output_type": "stream",
     "text": [
      "Sum wiil be: 55\n",
      "product will be: 56\n"
     ]
    }
   ],
   "source": [
    "#from while loop...\n",
    "Sum=0 # it will store the sum of natural no.\n",
    "Product=1 #it will store the product of natural no.\n",
    "i=1\n",
    "while i<11:\n",
    "    Sum+=i\n",
    "    Product+=i\n",
    "    i+=1\n",
    "print(\"Sum wiil be:\",Sum)\n",
    "print(\"product will be:\",Product)"
   ]
  },
  {
   "cell_type": "code",
   "execution_count": 24,
   "id": "31d99eb2-61e2-47b2-99a0-b20d3c27661b",
   "metadata": {},
   "outputs": [
    {
     "name": "stdin",
     "output_type": "stream",
     "text": [
      "Enter your unit:  310\n"
     ]
    },
    {
     "name": "stdout",
     "output_type": "stream",
     "text": [
      "2250\n"
     ]
    }
   ],
   "source": [
    "# QUES 3 PROGRAM TO FIND ELECTRICITY BILL...\n",
    "unit = int(input(\"Enter your unit: \"))\n",
    "if unit <= 100:\n",
    "    bill = unit * 4.5\n",
    "elif unit >= 101 and unit <= 200:\n",
    "    bill = 450 + ((unit - 100) * 6)\n",
    "elif unit >= 201 and unit <= 300:\n",
    "    bill = 450 + 600 + ((unit - 200) * 10.00)\n",
    "else:\n",
    "    bill = 450 + 600 + 1000 + ((unit - 300) * 20)\n",
    "print (\"Bill is :\",bill)\n"
   ]
  },
  {
   "cell_type": "code",
   "execution_count": 32,
   "id": "780a8277-18c4-4e46-b626-4f8eb39aaa92",
   "metadata": {},
   "outputs": [
    {
     "name": "stdout",
     "output_type": "stream",
     "text": [
      "[2, 4, 5, 6, 8, 10, 12, 14, 15, 16, 18, 20, 22, 24, 25, 26, 28, 30, 32, 34, 35, 36, 38, 40, 42, 44, 45, 46, 48, 50, 52, 54, 55, 56, 58, 60, 62, 64, 65, 66, 68, 70, 72, 74, 75, 76, 78, 80, 82, 84, 85, 86, 88, 90, 92, 94, 95, 96, 98, 100]\n"
     ]
    }
   ],
   "source": [
    "# Program to find cube of the no. and append in list...\n",
    "#From for loop\n",
    "l=[]\n",
    "for i in range (1,101):\n",
    "    c=0\n",
    "    c=i*i*i\n",
    "    if c%4==0 or c%5==0:\n",
    "        l.append(i)\n",
    "print (l)"
   ]
  },
  {
   "cell_type": "code",
   "execution_count": 31,
   "id": "a1bf3c87-9448-417f-8b21-010fca9b041f",
   "metadata": {},
   "outputs": [
    {
     "name": "stdout",
     "output_type": "stream",
     "text": [
      "[2, 4, 5, 6, 8, 10, 12, 14, 15, 16, 18, 20, 22, 24, 25, 26, 28, 30, 32, 34, 35, 36, 38, 40, 42, 44, 45, 46, 48, 50, 52, 54, 55, 56, 58, 60, 62, 64, 65, 66, 68, 70, 72, 74, 75, 76, 78, 80, 82, 84, 85, 86, 88, 90, 92, 94, 95, 96, 98, 100]\n"
     ]
    }
   ],
   "source": [
    "#from while loop\n",
    "l=[]\n",
    "i=1\n",
    "while i<101:\n",
    "    c=0\n",
    "    c=i*i*i\n",
    "    if c%4==0 or c%5==0:\n",
    "        l.append(i)\n",
    "    i=i+1\n",
    "print (l)"
   ]
  },
  {
   "cell_type": "code",
   "execution_count": 33,
   "id": "c8aa74c4-6a8c-4633-a791-e39893f2c5c5",
   "metadata": {},
   "outputs": [
    {
     "name": "stdout",
     "output_type": "stream",
     "text": [
      "No. of vovels in string are: 12\n"
     ]
    }
   ],
   "source": [
    "# Program to count vowel in the given sentence\n",
    "s= \"I want to become a data scientist\"\n",
    "count=0\n",
    "for i in s:\n",
    "    if i in ['a','e','i','o','u','A','I','O','U','E']:\n",
    "        count+=1\n",
    "print (\"No. of vovels in string are:\",count)\n",
    "    "
   ]
  },
  {
   "cell_type": "code",
   "execution_count": null,
   "id": "5d8297d3-85f8-454e-b72e-f1bda5b75df1",
   "metadata": {},
   "outputs": [],
   "source": []
  }
 ],
 "metadata": {
  "kernelspec": {
   "display_name": "Python 3 (ipykernel)",
   "language": "python",
   "name": "python3"
  },
  "language_info": {
   "codemirror_mode": {
    "name": "ipython",
    "version": 3
   },
   "file_extension": ".py",
   "mimetype": "text/x-python",
   "name": "python",
   "nbconvert_exporter": "python",
   "pygments_lexer": "ipython3",
   "version": "3.10.8"
  }
 },
 "nbformat": 4,
 "nbformat_minor": 5
}
